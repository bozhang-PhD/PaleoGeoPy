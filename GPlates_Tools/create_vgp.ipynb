{
 "metadata": {
  "name": "",
  "signature": "sha256:40f911d83077bdb81321adc68c3c51f3f052c9d5a3c141ca69b81c5b0af10f98"
 },
 "nbformat": 3,
 "nbformat_minor": 0,
 "worksheets": [
  {
   "cells": [
    {
     "cell_type": "heading",
     "level": 3,
     "metadata": {},
     "source": [
      "Required libraries"
     ]
    },
    {
     "cell_type": "code",
     "collapsed": false,
     "input": [
      "import numpy as np\n",
      "import pygplates as pgp\n",
      "import os"
     ],
     "language": "python",
     "metadata": {},
     "outputs": [],
     "prompt_number": 6
    },
    {
     "cell_type": "heading",
     "level": 3,
     "metadata": {},
     "source": [
      "Example values"
     ]
    },
    {
     "cell_type": "code",
     "collapsed": false,
     "input": [
      "count = 10\n",
      "poleLat = 34\n",
      "poleLong = 220\n",
      "poleName = \"PmagSite1\"\n",
      "plateID = 123\n",
      "poleAgeUpperLimit = 543\n",
      "poleAgeLowerLimit = 526\n",
      "poleInc = -55\n",
      "poleDec = 234\n",
      "poleA95 = 6.2\n",
      "poleNominalAge = 534.5\n",
      "poleSiteLat = -40\n",
      "poleSiteLong = 145"
     ],
     "language": "python",
     "metadata": {},
     "outputs": [],
     "prompt_number": 3
    },
    {
     "cell_type": "heading",
     "level": 3,
     "metadata": {},
     "source": [
      "Create and populate FeatureCollection"
     ]
    },
    {
     "cell_type": "code",
     "collapsed": false,
     "input": [
      "# Create new GPlates Feature Collection\n",
      "vpgFeatureCollection = pgp.FeatureCollection()\n",
      "\n",
      "# Loop through list of poles and produce GPML file of multiple VGPs.\n",
      "# Create new GPlates feature 'VirtualGeomagneticPole'.\n",
      "# Pole lat, pole lon, pole name, and reconstruction plate ID added within PointOnSphere method.\n",
      "# Inc, Dec, A95, Age and Sample site lat/lon values to added within 'other_properties' method.\n",
      "\n",
      "for i in range(0, count):\n",
      "    \n",
      "    vgpFeature = pgp.Feature.create_reconstructable_feature(\n",
      "                 pgp.FeatureType.create_gpml('VirtualGeomagneticPole'),\n",
      "                 pgp.PointOnSphere([np.float(poleLat), np.float(poleLong)]),\n",
      "                 name = poleName,\n",
      "                 reconstruction_plate_id = plateID,\n",
      "                 valid_time=(np.float(poleAgeUpperLimit), np.float(poleAgeLowerLimit)),\n",
      "                 other_properties = [(pgp.PropertyName.create_gpml('averageInclination'), pgp.XsDouble(poleInc)),\n",
      "                                     (pgp.PropertyName.create_gpml('averageDeclination'), pgp.XsDouble(poleDec)),\n",
      "                                     (pgp.PropertyName.create_gpml('poleA95'), pgp.XsDouble(poleA95)),\n",
      "                                     (pgp.PropertyName.create_gpml('averageAge'), pgp.XsDouble(poleNominalAge)),\n",
      "                                     (pgp.PropertyName.create_gpml('averageSampleSitePosition'),\n",
      "                                      pgp.GmlPoint(pgp.PointOnSphere([np.float(poleSiteLat), \n",
      "                                                                      np.float(poleSiteLong)])))])\n",
      "\n",
      "    # Add newly created feature to existing Feature Collection\n",
      "    vpgFeatureCollection.add(vgpFeature)\n",
      "    "
     ],
     "language": "python",
     "metadata": {},
     "outputs": [],
     "prompt_number": 7
    },
    {
     "cell_type": "heading",
     "level": 3,
     "metadata": {},
     "source": [
      "Generate GPML file"
     ]
    },
    {
     "cell_type": "code",
     "collapsed": false,
     "input": [
      "# Generate GPML output file\n",
      "gpmlOutputFile = \"PmagPoles.gpml\"\n",
      "\n",
      "# Check for existing output directory and create it if not found\n",
      "if not os.path.exists(\"output\"):\n",
      "    os.makedirs(\"output\")\n",
      "\n",
      "# Check for existing output file with same name and remove if found\n",
      "if os.path.isfile(\"output/\" + str(gpmlOutputFile)):\n",
      "    os.remove(\"output/\" + str(gpmlOutputFile))\n",
      "\n",
      "# Check to make sure vgpFeatureCollection (feature collection) is not empty before writing to file\n",
      "if len(vpgFeatureCollection) != 0:\n",
      "    outputFeatureCollection = pgp.FeatureCollectionFileFormatRegistry()\n",
      "    outputFeatureCollection.write(vpgFeatureCollection, \"output/\" + str(gpmlOutputFile))\n",
      "\n",
      "# Check if new file was created and confirm export\n",
      "if os.path.isfile(\"output/\" + str(gpmlOutputFile)):\n",
      "    print \"Paleomagnetic pole data successfully exported in GPML format\""
     ],
     "language": "python",
     "metadata": {},
     "outputs": [
      {
       "output_type": "stream",
       "stream": "stdout",
       "text": [
        "Paleomagnetic pole data successfully exported in GPML format\n"
       ]
      }
     ],
     "prompt_number": 8
    }
   ],
   "metadata": {}
  }
 ]
}