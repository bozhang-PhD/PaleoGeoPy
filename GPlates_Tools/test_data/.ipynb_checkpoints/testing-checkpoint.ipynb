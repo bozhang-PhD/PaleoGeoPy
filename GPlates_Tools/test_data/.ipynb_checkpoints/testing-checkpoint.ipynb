{
 "metadata": {
  "name": "",
  "signature": "sha256:918f04c4c447762eee23cc0e6e6fa37031e1976ae76efffc2a57a96b28bee592"
 },
 "nbformat": 3,
 "nbformat_minor": 0,
 "worksheets": [
  {
   "cells": [
    {
     "cell_type": "heading",
     "level": 1,
     "metadata": {},
     "source": [
      "Testing 1 2 3 "
     ]
    },
    {
     "cell_type": "markdown",
     "metadata": {},
     "source": [
      "Generic notebook for testing"
     ]
    },
    {
     "cell_type": "heading",
     "level": 3,
     "metadata": {},
     "source": [
      "Imports"
     ]
    },
    {
     "cell_type": "code",
     "collapsed": false,
     "input": [
      "import pygplates as pgp\n",
      "import GPMLTools"
     ],
     "language": "python",
     "metadata": {},
     "outputs": [],
     "prompt_number": 1
    },
    {
     "cell_type": "code",
     "collapsed": false,
     "input": [
      "inputFile = '/test_data/SZ_with_subductionZoneAge_param.gpml'\n",
      "outputFile = '/test_data/test_output.gpml'"
     ],
     "language": "python",
     "metadata": {},
     "outputs": [],
     "prompt_number": 4
    },
    {
     "cell_type": "code",
     "collapsed": false,
     "input": [
      "GPMLTools.filterGPML(inputFile = inputFile, outputFile = outputFile, filterSequence=[11], feature_truncate_age[250])"
     ],
     "language": "python",
     "metadata": {},
     "outputs": [
      {
       "ename": "SyntaxError",
       "evalue": "non-keyword arg after keyword arg (<ipython-input-5-504f6df03cc0>, line 1)",
       "output_type": "pyerr",
       "traceback": [
        "\u001b[0;36m  File \u001b[0;32m\"<ipython-input-5-504f6df03cc0>\"\u001b[0;36m, line \u001b[0;32m1\u001b[0m\n\u001b[0;31m    GPMLTools.filterGPML(inputFile = inputFile, outputFile = outputFile, filterSequence=[11], feature_truncate_age[250])\u001b[0m\n\u001b[0;31mSyntaxError\u001b[0m\u001b[0;31m:\u001b[0m non-keyword arg after keyword arg\n"
       ]
      }
     ],
     "prompt_number": 5
    },
    {
     "cell_type": "code",
     "collapsed": false,
     "input": [],
     "language": "python",
     "metadata": {},
     "outputs": []
    }
   ],
   "metadata": {}
  }
 ]
}