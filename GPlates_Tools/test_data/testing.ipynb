{
 "metadata": {
  "name": "",
  "signature": "sha256:1ca04a1d2aa6e790c9e42f8933a013252fc53ec82c37f5ee5bf822171ae036b9"
 },
 "nbformat": 3,
 "nbformat_minor": 0,
 "worksheets": [
  {
   "cells": [
    {
     "cell_type": "heading",
     "level": 1,
     "metadata": {},
     "source": [
      "Testing 1 2 3 "
     ]
    },
    {
     "cell_type": "markdown",
     "metadata": {},
     "source": [
      "Generic notebook for testing"
     ]
    },
    {
     "cell_type": "heading",
     "level": 3,
     "metadata": {},
     "source": [
      "Imports"
     ]
    },
    {
     "cell_type": "code",
     "collapsed": false,
     "input": [
      "import pygplates as pgp\n",
      "import GPMLTools"
     ],
     "language": "python",
     "metadata": {},
     "outputs": [],
     "prompt_number": 1
    },
    {
     "cell_type": "code",
     "collapsed": false,
     "input": [
      "inputFile = '../test_data/Global_EarthByte.gpml'\n",
      "outputFile = 'test_output.gpml'"
     ],
     "language": "python",
     "metadata": {},
     "outputs": [],
     "prompt_number": 2
    },
    {
     "cell_type": "code",
     "collapsed": false,
     "input": [
      "GPMLTools.filterGPML(inputFile=inputFile, outputFile=outputFile, filterSequence=[11], feature_truncate_age=50)"
     ],
     "language": "python",
     "metadata": {},
     "outputs": [
      {
       "output_type": "stream",
       "stream": "stdout",
       "text": [
        " \n",
        "--------------------------------------------\n",
        " ### GPMLTools - filterGPML ###\n",
        " "
       ]
      },
      {
       "output_type": "stream",
       "stream": "stdout",
       "text": [
        "\n",
        "Data handling:\n",
        "    Successfully loaded data file:  '../test_data/Global_EarthByte.gpml'\n",
        "       - File contains 3124 features.\n",
        " \n",
        "Filter sequence:\n",
        "    11. File truncated by age boundary: 50 Ma"
       ]
      },
      {
       "output_type": "stream",
       "stream": "stdout",
       "text": [
        "\n",
        "       - Created 2157 feature(s) older than truncation boundary.\n",
        "       - Created 1112 feature(s) younger than truncation boundary.\n",
        " \n",
        " "
       ]
      },
      {
       "output_type": "stream",
       "stream": "stdout",
       "text": [
        "\n",
        "Output file 1:\n",
        "    ../output/>50Ma_test_output.gpml\n",
        " \n",
        "Process took 3.08 seconds.\n",
        " \n",
        "Output file 2:"
       ]
      },
      {
       "output_type": "stream",
       "stream": "stdout",
       "text": [
        "\n",
        "    ../output/<50Ma_test_output.gpml\n",
        " \n",
        "Process took 3.3 seconds.\n",
        "--------------------------------------------\n"
       ]
      }
     ],
     "prompt_number": 3
    },
    {
     "cell_type": "code",
     "collapsed": false,
     "input": [],
     "language": "python",
     "metadata": {},
     "outputs": [],
     "prompt_number": 3
    },
    {
     "cell_type": "code",
     "collapsed": false,
     "input": [],
     "language": "python",
     "metadata": {},
     "outputs": [],
     "prompt_number": 3
    },
    {
     "cell_type": "code",
     "collapsed": false,
     "input": [],
     "language": "python",
     "metadata": {},
     "outputs": []
    }
   ],
   "metadata": {}
  }
 ]
}