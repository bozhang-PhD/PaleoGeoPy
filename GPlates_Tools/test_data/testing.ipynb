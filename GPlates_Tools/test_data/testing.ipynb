{
 "metadata": {
  "name": "",
  "signature": "sha256:30c36b3bfc47c307564c855c2cb408b96826a5f99befdf474c47e96500e8cb31"
 },
 "nbformat": 3,
 "nbformat_minor": 0,
 "worksheets": [
  {
   "cells": [
    {
     "cell_type": "heading",
     "level": 1,
     "metadata": {},
     "source": [
      "Testing 1 2 3 "
     ]
    },
    {
     "cell_type": "markdown",
     "metadata": {},
     "source": [
      "Generic notebook for testing"
     ]
    },
    {
     "cell_type": "heading",
     "level": 3,
     "metadata": {},
     "source": [
      "Imports"
     ]
    },
    {
     "cell_type": "code",
     "collapsed": false,
     "input": [
      "import pygplates as pgp\n",
      "import GPMLTools"
     ],
     "language": "python",
     "metadata": {},
     "outputs": [],
     "prompt_number": 1
    },
    {
     "cell_type": "code",
     "collapsed": false,
     "input": [
      "inputFile = '../test_data/Global_EarthByte.gpml'\n",
      "outputFile = 'test_output.gpml'"
     ],
     "language": "python",
     "metadata": {},
     "outputs": [],
     "prompt_number": 2
    },
    {
     "cell_type": "code",
     "collapsed": false,
     "input": [
      "GPMLTools.filterGPML(inputFile=inputFile, outputFile=outputFile, filterSequence=[11], feature_truncate_age=250)"
     ],
     "language": "python",
     "metadata": {},
     "outputs": [
      {
       "output_type": "stream",
       "stream": "stdout",
       "text": [
        " \n",
        "--------------------------------------------\n",
        " ### GPMLTools - filterGPML ###\n",
        " "
       ]
      },
      {
       "output_type": "stream",
       "stream": "stdout",
       "text": [
        "\n",
        "Data handling:\n",
        "    Successfully loaded data file:  '../test_data/Global_EarthByte.gpml'\n",
        "       - File contains 3124 features.\n",
        " \n",
        "Filter sequence:\n",
        "a (270.0, 250.1)\n",
        "b (250.0, 200.1)\n",
        "a (270.0, 250.1)\n",
        "b (250.0, 210.1)\n",
        "a (270.0, 250.1)\n",
        "b (250.0, 230.1)\n",
        "a (270.0, 250.1)\n",
        "b (250.0, 230.1)\n",
        "    11. File truncated by age boundary: 250 Ma\n",
        "       - Found 4 feature(s) in older collection.\n",
        "       - Found 4 feature(s) in younger collection.\n",
        " \n",
        "Output file 1:\n",
        "    ../output/>250Ma_test_output.gpml\n",
        " \n",
        "Process took 1.22 seconds.\n",
        " \n",
        "Output file 2:\n",
        "    ../output/<250Ma_test_output.gpml\n",
        " \n",
        "Process took 1.22 seconds.\n",
        "--------------------------------------------\n"
       ]
      }
     ],
     "prompt_number": 3
    },
    {
     "cell_type": "code",
     "collapsed": false,
     "input": [
      "a = 50\n",
      "b = float('Inf')"
     ],
     "language": "python",
     "metadata": {},
     "outputs": [],
     "prompt_number": 5
    },
    {
     "cell_type": "code",
     "collapsed": false,
     "input": [
      "if a < b:\n",
      "    print 'ddd'"
     ],
     "language": "python",
     "metadata": {},
     "outputs": [
      {
       "output_type": "stream",
       "stream": "stdout",
       "text": [
        "ddd\n"
       ]
      }
     ],
     "prompt_number": 7
    },
    {
     "cell_type": "code",
     "collapsed": false,
     "input": [],
     "language": "python",
     "metadata": {},
     "outputs": []
    }
   ],
   "metadata": {}
  }
 ]
}